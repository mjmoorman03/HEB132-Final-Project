{
 "cells": [
  {
   "cell_type": "markdown",
   "metadata": {},
   "source": [
    "# HEB 132 Final Project - Sex vs. Immigrant Opinion"
   ]
  },
  {
   "cell_type": "markdown",
   "metadata": {},
   "source": [
    "## data creation"
   ]
  },
  {
   "cell_type": "code",
   "execution_count": null,
   "metadata": {},
   "outputs": [],
   "source": [
    "import csv\n",
    "import numpy as np\n",
    "import pandas as pd\n",
    "import matplotlib.pyplot as plt\n",
    "import seaborn as sns\n",
    "from scipy.stats import chi2_contingency\n",
    "from scipy.stats import chi2"
   ]
  },
  {
   "cell_type": "code",
   "execution_count": null,
   "metadata": {},
   "outputs": [],
   "source": [
    "# custom entry from tweets \n",
    "lines = []\n",
    "i = 0\n",
    "# fill lines\n",
    "while True:\n",
    "    line = []\n",
    "    line.append(i)\n",
    "    line.append(input(\"Male? (1/0): \"))\n",
    "    line.append(input('Text: '))\n",
    "    line.append(input('Pro immigrant?: '))\n",
    "    line.append(input('Name: '))\n",
    "    i += 1\n",
    "    lines.append(line)\n",
    "    if input(\"Continue? (y/n): \") == 'n':\n",
    "        break\n",
    "with open('data.csv', 'w') as f:\n",
    "    writer = csv.writer(f)\n",
    "    writer.writerows(lines)\n"
   ]
  },
  {
   "cell_type": "code",
   "execution_count": null,
   "metadata": {},
   "outputs": [],
   "source": [
    "df = pd.read_csv('data.csv')"
   ]
  },
  {
   "cell_type": "code",
   "execution_count": 34,
   "metadata": {},
   "outputs": [
    {
     "data": {
      "text/plain": [
       "1    74\n",
       "0    22\n",
       "Name: male, dtype: int64"
      ]
     },
     "execution_count": 34,
     "metadata": {},
     "output_type": "execute_result"
    }
   ],
   "source": [
    "df['male'].value_counts()"
   ]
  },
  {
   "cell_type": "code",
   "execution_count": null,
   "metadata": {},
   "outputs": [
    {
     "name": "stderr",
     "output_type": "stream",
     "text": [
      "No model was supplied, defaulted to distilbert/distilbert-base-uncased-finetuned-sst-2-english and revision 714eb0f (https://huggingface.co/distilbert/distilbert-base-uncased-finetuned-sst-2-english).\n",
      "Using a pipeline without specifying a model name and revision in production is not recommended.\n",
      "Device set to use mps:0\n"
     ]
    },
    {
     "name": "stdout",
     "output_type": "stream",
     "text": [
      "[{'label': 'NEGATIVE', 'score': 0.9905158281326294}]\n",
      "Except that's not what trump will do. @HedyLamarr0629 • 15h Tariffs are what WE pay not other countries. Immigrants keep our food costs low & supply construction industry labor. Elon wants to gut veteran's benefits, SS, Medicare, Medicaid & SNAP & Republicans will do it & trump will sign it.\n",
      "[{'label': 'NEGATIVE', 'score': 0.9988191723823547}]\n",
      "When nativeborn Americans commit crimes, do you post that on your X account? Undocumented immigrants do not commit crime at any higher rate than native born Americans. This whole idea that the crime rate will go down in the US after a mass deportation is a joke.\n",
      "[{'label': 'POSITIVE', 'score': 0.9165953993797302}]\n",
      "The war in Ukraine is essentially \"White depopulation\" to make space for immigrants. 50 years from now, Americans will look at Russia and they will say that is how the West should have been.\n",
      "[{'label': 'NEGATIVE', 'score': 0.9967527985572815}]\n",
      "who has cut child healthcare? who blames the poor and immigrants for our nations problems? who is pushing profits on schools and jails? hasn't Trump committed adultery on all 3 of his wives? I think there's a Commandment regarding that. None of that is WWJD.\n",
      "[{'label': 'NEGATIVE', 'score': 0.9977960586547852}]\n",
      "FBA's on X space r most radicalized. Their hate is not just 4 Caucasians, but 4 any immigrant or 1st gen immigrants of the same color as them. Tariq would not care if the \" deleted\" was not an FBA. FBA's would equally be up in arms if Penny was an African or a Caribbean person.\n",
      "[{'label': 'NEGATIVE', 'score': 0.9961268305778503}]\n",
      "Construction and Agriculture having to outsource labour because bajans don't want to do it, but then they complaining about labour going to immigrants and not locals when they hurting for money... Can't make this up\n",
      "[{'label': 'POSITIVE', 'score': 0.9645783305168152}]\n",
      "FUCKING BIG WIN a FUCK YOU NEWSOM and any other person who wants to stand in our way deporting all these sorry ass illegal immigrants out\n",
      "[{'label': 'NEGATIVE', 'score': 0.9973046779632568}]\n",
      "My bf is black too okay and??? Like I said until the victim roll needs to be filled y'all hop into the spot, idc what white ppl got to say about me or Arabic or immigrants 😭😂 why would I\n",
      "[{'label': 'POSITIVE', 'score': 0.9956485629081726}]\n",
      "And stop putting illegal immigrants in 4 star hotels whilst we have a huge homelessness problem, including veterans who put their lives on the line in defence of our “freedom “. Deportation/ Repatriation is essential.\n",
      "[{'label': 'POSITIVE', 'score': 0.9843196272850037}]\n",
      "You can all come to the UK along with all the other immigrants, you will get first class accommodation in a 5 star hotel for as long as you need it. 🤬\n",
      "[{'label': 'POSITIVE', 'score': 0.9903145432472229}]\n",
      "Here in Canada it's immigrants who come from warmer parts of the world, have never had to contend with snow & ice, & obey the principle of “path of least resistance” rather than the “rules of the road”, which we all tend to agree on in order to avoid mass carnage!\n",
      "[{'label': 'NEGATIVE', 'score': 0.9803550243377686}]\n",
      "\"Deporting undocumented immigrants could leave industries like agriculture and construction scrambling for workers, driving up costs for businesses and consumers.\" Details:\n",
      "[{'label': 'NEGATIVE', 'score': 0.9768018126487732}]\n",
      "Trump's ‘migrant crime' idea is vicious and legal immigrants could suffer | US immigration | The Guardian\n",
      "[{'label': 'POSITIVE', 'score': 0.9974406957626343}]\n",
      "Of course Nigel is correct and much more in touch with the electorate than a snow flake like you. You would have us overrun by illegal immigrants if you had your way, and no way to get rid of them. The sooner your mates in the Labour Party are out, the better for all of us.\n",
      "[{'label': 'NEGATIVE', 'score': 0.9989998936653137}]\n",
      "You're an immigrant too dumb ass. You would be deported also. Your ancestors were imported from Africa.....\n",
      "[{'label': 'NEGATIVE', 'score': 0.9978588223457336}]\n",
      "my fav public health topic is the fact that white people in the usa have worse health outcomes and a higher death rate due to the isolation and lack of sense of community compared to immigrant groups like latin & asian ones\n",
      "[{'label': 'NEGATIVE', 'score': 0.996723473072052}]\n",
      "Horrific.   A friend of my mom's is here in the US legally. Her husband and kids became citizens. She started the process to become a citizen right after the election.   Being in the US legally, having a green card, isn't good enough for Trump and the immigrant haters he's\n",
      "[{'label': 'POSITIVE', 'score': 0.9955974221229553}]\n",
      "If you don't like it then rescind your immigrant visa and go back to Oz.\n",
      "[{'label': 'POSITIVE', 'score': 0.9986394047737122}]\n",
      "That's truly a beautiful building.  I'm a bit hesitant to visit Paris due to all the immigrant crime, but I must see it again before I die.\n",
      "[{'label': 'NEGATIVE', 'score': 0.9914491772651672}]\n",
      "Since Trump and his sycophants lie constantly don't trust a thing they say or promise. Let's see Trump lower inflation after announcing tariffs and deporting all of the immigrant workers picking our produce; processing our beef, pork and poultry; & building and roofing our homes.\n",
      "[{'label': 'NEGATIVE', 'score': 0.9995298385620117}]\n",
      "So, an immigrant comes here on H1B, below market rate, gets Green Card after sometime, to a different company who offers her market rate, is that bad?\n",
      "[{'label': 'POSITIVE', 'score': 0.9930013418197632}]\n",
      "all immigrant\n",
      "[{'label': 'NEGATIVE', 'score': 0.9476184844970703}]\n",
      "Isn't Elon Musk the greatest hypocrite in the US?  He opposes federal funding but lives on federal subsidies  He opposes government regulations but wants regulations favoring him  He wants illegal immigrants to be deported, but he was an illegal immigrant\n",
      "[{'label': 'NEGATIVE', 'score': 0.9849134087562561}]\n",
      "Every immigrant I know, when they came here, were conservative Even those who needed help when they first got here. Post Trump, some now lean more to Democrats But that is not a given.\n",
      "[{'label': 'POSITIVE', 'score': 0.9882947206497192}]\n",
      "Good going Sir..not because what is happening in Bangladesh now. In normal course of business we should just keep catching  these buggers and deporting them. Simultaneously we should also educate our ppl to be aware, report such cases as these illegal immigrant eat our resources\n",
      "[{'label': 'NEGATIVE', 'score': 0.9992734789848328}]\n",
      "In fairness, the data wasn't as available as it is now. Trickle-down is a scam! Deregulation is a scam! The \"socialism\" fear is a scam! \"Privatization\" is a scam!! Immigrant fear is a scam! The GOP is all bullshit all the time.\n"
     ]
    }
   ],
   "source": [
    "# verify sentiment analysis\n",
    "from transformers import pipeline\n",
    "sentiment_pipeline = pipeline(\"sentiment-analysis\")\n",
    "\n",
    "for row in df.iterrows():\n",
    "    if row[1]['pro_immigrant'] == 1 and sentiment_pipeline(row[1]['text'])[0]['label'] == 'NEGATIVE' and sentiment_pipeline(row[1]['text'])[0]['score'] > 0.9:\n",
    "        print(sentiment_pipeline(row[1]['text']))\n",
    "        print(row[1]['text'])\n",
    "    if row[1]['pro_immigrant'] == 0 and sentiment_pipeline(row[1]['text'])[0]['label'] == 'POSITIVE' and sentiment_pipeline(row[1]['text'])[0]['score'] > 0.9:\n",
    "        print(sentiment_pipeline(row[1]['text']))\n",
    "        print(row[1]['text'])"
   ]
  },
  {
   "cell_type": "markdown",
   "metadata": {},
   "source": [
    "The above sentiment analysis shows us that it is perhaps not quite possible to objectively determine opinion of immigrants based on the sentiment of the text. These tweets largely exist in an argumentative context, and the sentiment of the text can be quite negative even if the position is to defend immigrants, as it could be attacking the one it responds to. Similarly, many individuals are deeply enthusiastic about deporting immigrants, and their sentiment can be quite positive, despite the fact that they are expressing a negative opinion, even with hateful language."
   ]
  },
  {
   "cell_type": "markdown",
   "metadata": {},
   "source": [
    "## Data Analysis"
   ]
  },
  {
   "cell_type": "markdown",
   "metadata": {},
   "source": [
    "### See difference between men vs. women"
   ]
  },
  {
   "cell_type": "code",
   "execution_count": 36,
   "metadata": {},
   "outputs": [
    {
     "name": "stdout",
     "output_type": "stream",
     "text": [
      "{0: 56, 1: 18}\n",
      "{1: 14, 0: 8}\n"
     ]
    },
    {
     "data": {
      "image/png": "[encoded data removed]",
      "text/plain": [
       "<Figure size 432x288 with 1 Axes>"
      ]
     },
     "metadata": {},
     "output_type": "display_data"
    },
    {
     "data": {
      "image/png": "[encoded data removed]",
      "text/plain": [
       "<Figure size 432x288 with 1 Axes>"
      ]
     },
     "metadata": {},
     "output_type": "display_data"
    }
   ],
   "source": [
    "df_male = df[df['male'] == 1]\n",
    "df_female = df[df['male'] == 0]\n",
    "\n",
    "maleCounts = dict(df_male['pro_immigrant'].value_counts())\n",
    "femaleCounts = dict(df_female['pro_immigrant'].value_counts())\n",
    "\n",
    "print(maleCounts)\n",
    "print(femaleCounts)\n",
    "\n",
    "# plot pro_immigrant vs sex\n",
    "\n",
    "fig, ax = plt.subplots()\n",
    "ax.pie([maleCounts[1], maleCounts[0]], labels=['Pro Immigrant', 'Anti Immigrant'], autopct='%1.1f%%')\n",
    "plt.title('Immigrant Sentiment by Males')\n",
    "fig.patch.set_facecolor('white')\n",
    "plt.show()\n",
    "\n",
    "fig, ax = plt.subplots()\n",
    "ax.pie([femaleCounts[1], femaleCounts[0]], labels=['Pro Immigrant', 'Anti Immigrant'], autopct='%1.1f%%')\n",
    "plt.title('Immigrant Sentiment by Females')\n",
    "fig.patch.set_facecolor('white')\n",
    "plt.show()\n"
   ]
  },
  {
   "cell_type": "markdown",
   "metadata": {},
   "source": [
    "It seems clear that the women in this sample are more likely to hold pro-immigrant views than men. We now test if this is statistically significant using Pearsone's Chi-Squared test."
   ]
  },
  {
   "cell_type": "code",
   "execution_count": 35,
   "metadata": {},
   "outputs": [
    {
     "name": "stdout",
     "output_type": "stream",
     "text": [
      "p value is 0.0014900257892781965\n",
      "stat is 10.09090909090909\n",
      "degrees of freedom is 1\n",
      "expected is [[14.66666667  7.33333333]\n",
      " [49.33333333 24.66666667]]\n",
      "odds ratio is 0.1836734693877551\n",
      "p value is 0.0014560597631001473\n"
     ]
    }
   ],
   "source": [
    "contigencyTable = pd.crosstab(df['male'], df['pro_immigrant'])\n",
    "stat, p, dof, expected = chi2_contingency(contigencyTable)\n",
    "\n",
    "print(f\"p value is {p}\")\n",
    "print(f\"stat is {stat}\")\n",
    "print(f\"degrees of freedom is {dof}\")\n",
    "print(f\"expected is {expected}\")\n",
    "\n",
    "# fisher exact test \n",
    "from scipy.stats import fisher_exact\n",
    "\n",
    "oddsratio, pvalue = fisher_exact(contigencyTable)\n",
    "print(f\"odds ratio is {oddsratio}\")\n",
    "print(f\"p value is {pvalue}\")\n",
    "\n"
   ]
  }
 ],
 "metadata": {
  "kernelspec": {
   "display_name": "Python 3",
   "language": "python",
   "name": "python3"
  },
  "language_info": {
   "codemirror_mode": {
    "name": "ipython",
    "version": 3
   },
   "file_extension": ".py",
   "mimetype": "text/x-python",
   "name": "python",
   "nbconvert_exporter": "python",
   "pygments_lexer": "ipython3",
   "version": "3.10.0"
  }
 },
 "nbformat": 4,
 "nbformat_minor": 2
}
